{
 "cells": [
  {
   "cell_type": "markdown",
   "metadata": {},
   "source": [
    "**Fuente**\n",
    "OECD - Organisation for economic co-operation and development\n",
    "\n",
    "**Información**\n",
    "Female share of seats on boards of the largest publicly listed companies\n",
    "\n",
    "**Enlace**\n",
    "https://stats.oecd.org/index.aspx?queryid=54753"
   ]
  },
  {
   "cell_type": "code",
   "execution_count": 107,
   "metadata": {},
   "outputs": [],
   "source": [
    "import pandas as pd\n",
    "import numpy as np"
   ]
  },
  {
   "cell_type": "code",
   "execution_count": 108,
   "metadata": {},
   "outputs": [],
   "source": [
    "paths = ['female_boards_worldwide', 'female_managers_worldwide']\n",
    "name = ['boards', 'managers']"
   ]
  },
  {
   "cell_type": "code",
   "execution_count": 109,
   "metadata": {},
   "outputs": [],
   "source": [
    "femaleWorldwide = {v:pd.read_csv(f'../data/raw_data/{k}.csv', dtype=str) for (k,v) in zip(paths, name)} "
   ]
  },
  {
   "cell_type": "code",
   "execution_count": 110,
   "metadata": {},
   "outputs": [
    {
     "data": {
      "text/html": [
       "<div>\n",
       "<style scoped>\n",
       "    .dataframe tbody tr th:only-of-type {\n",
       "        vertical-align: middle;\n",
       "    }\n",
       "\n",
       "    .dataframe tbody tr th {\n",
       "        vertical-align: top;\n",
       "    }\n",
       "\n",
       "    .dataframe thead th {\n",
       "        text-align: right;\n",
       "    }\n",
       "</style>\n",
       "<table border=\"1\" class=\"dataframe\">\n",
       "  <thead>\n",
       "    <tr style=\"text-align: right;\">\n",
       "      <th></th>\n",
       "      <th>COU</th>\n",
       "      <th>Country</th>\n",
       "      <th>IND</th>\n",
       "      <th>Indicator</th>\n",
       "      <th>SEX</th>\n",
       "      <th>Sex</th>\n",
       "      <th>AGE</th>\n",
       "      <th>Age Group</th>\n",
       "      <th>TIME</th>\n",
       "      <th>Time</th>\n",
       "      <th>Unit Code</th>\n",
       "      <th>Unit</th>\n",
       "      <th>PowerCode Code</th>\n",
       "      <th>PowerCode</th>\n",
       "      <th>Reference Period Code</th>\n",
       "      <th>Reference Period</th>\n",
       "      <th>Value</th>\n",
       "      <th>Flag Codes</th>\n",
       "      <th>Flags</th>\n",
       "    </tr>\n",
       "  </thead>\n",
       "  <tbody>\n",
       "    <tr>\n",
       "      <th>0</th>\n",
       "      <td>SVN</td>\n",
       "      <td>Slovenia</td>\n",
       "      <td>EMP11</td>\n",
       "      <td>Female share of seats on boards of the largest...</td>\n",
       "      <td>WOMEN</td>\n",
       "      <td>Women</td>\n",
       "      <td>TOTAL</td>\n",
       "      <td>Total</td>\n",
       "      <td>2013</td>\n",
       "      <td>2013</td>\n",
       "      <td>PC</td>\n",
       "      <td>Percentage</td>\n",
       "      <td>0</td>\n",
       "      <td>Units</td>\n",
       "      <td>NaN</td>\n",
       "      <td>NaN</td>\n",
       "      <td>21.6</td>\n",
       "      <td>NaN</td>\n",
       "      <td>NaN</td>\n",
       "    </tr>\n",
       "    <tr>\n",
       "      <th>1</th>\n",
       "      <td>DNK</td>\n",
       "      <td>Denmark</td>\n",
       "      <td>EMP11</td>\n",
       "      <td>Female share of seats on boards of the largest...</td>\n",
       "      <td>WOMEN</td>\n",
       "      <td>Women</td>\n",
       "      <td>TOTAL</td>\n",
       "      <td>Total</td>\n",
       "      <td>2013</td>\n",
       "      <td>2013</td>\n",
       "      <td>PC</td>\n",
       "      <td>Percentage</td>\n",
       "      <td>0</td>\n",
       "      <td>Units</td>\n",
       "      <td>NaN</td>\n",
       "      <td>NaN</td>\n",
       "      <td>22.9</td>\n",
       "      <td>NaN</td>\n",
       "      <td>NaN</td>\n",
       "    </tr>\n",
       "    <tr>\n",
       "      <th>2</th>\n",
       "      <td>ESP</td>\n",
       "      <td>Spain</td>\n",
       "      <td>EMP11</td>\n",
       "      <td>Female share of seats on boards of the largest...</td>\n",
       "      <td>WOMEN</td>\n",
       "      <td>Women</td>\n",
       "      <td>TOTAL</td>\n",
       "      <td>Total</td>\n",
       "      <td>2013</td>\n",
       "      <td>2013</td>\n",
       "      <td>PC</td>\n",
       "      <td>Percentage</td>\n",
       "      <td>0</td>\n",
       "      <td>Units</td>\n",
       "      <td>NaN</td>\n",
       "      <td>NaN</td>\n",
       "      <td>14.8</td>\n",
       "      <td>NaN</td>\n",
       "      <td>NaN</td>\n",
       "    </tr>\n",
       "  </tbody>\n",
       "</table>\n",
       "</div>"
      ],
      "text/plain": [
       "   COU   Country    IND                                          Indicator  \\\n",
       "0  SVN  Slovenia  EMP11  Female share of seats on boards of the largest...   \n",
       "1  DNK   Denmark  EMP11  Female share of seats on boards of the largest...   \n",
       "2  ESP     Spain  EMP11  Female share of seats on boards of the largest...   \n",
       "\n",
       "     SEX    Sex    AGE Age Group  TIME  Time Unit Code        Unit  \\\n",
       "0  WOMEN  Women  TOTAL     Total  2013  2013        PC  Percentage   \n",
       "1  WOMEN  Women  TOTAL     Total  2013  2013        PC  Percentage   \n",
       "2  WOMEN  Women  TOTAL     Total  2013  2013        PC  Percentage   \n",
       "\n",
       "  PowerCode Code PowerCode Reference Period Code Reference Period Value  \\\n",
       "0              0     Units                   NaN              NaN  21.6   \n",
       "1              0     Units                   NaN              NaN  22.9   \n",
       "2              0     Units                   NaN              NaN  14.8   \n",
       "\n",
       "  Flag Codes Flags  \n",
       "0        NaN   NaN  \n",
       "1        NaN   NaN  \n",
       "2        NaN   NaN  "
      ]
     },
     "execution_count": 110,
     "metadata": {},
     "output_type": "execute_result"
    }
   ],
   "source": [
    "femaleWorldwide['boards'].head(3)"
   ]
  },
  {
   "cell_type": "code",
   "execution_count": 111,
   "metadata": {},
   "outputs": [
    {
     "data": {
      "text/html": [
       "<div>\n",
       "<style scoped>\n",
       "    .dataframe tbody tr th:only-of-type {\n",
       "        vertical-align: middle;\n",
       "    }\n",
       "\n",
       "    .dataframe tbody tr th {\n",
       "        vertical-align: top;\n",
       "    }\n",
       "\n",
       "    .dataframe thead th {\n",
       "        text-align: right;\n",
       "    }\n",
       "</style>\n",
       "<table border=\"1\" class=\"dataframe\">\n",
       "  <thead>\n",
       "    <tr style=\"text-align: right;\">\n",
       "      <th></th>\n",
       "      <th>COU</th>\n",
       "      <th>Country</th>\n",
       "      <th>IND</th>\n",
       "      <th>Indicator</th>\n",
       "      <th>SEX</th>\n",
       "      <th>Sex</th>\n",
       "      <th>AGE</th>\n",
       "      <th>Age Group</th>\n",
       "      <th>TIME</th>\n",
       "      <th>Time</th>\n",
       "      <th>Unit Code</th>\n",
       "      <th>Unit</th>\n",
       "      <th>PowerCode Code</th>\n",
       "      <th>PowerCode</th>\n",
       "      <th>Reference Period Code</th>\n",
       "      <th>Reference Period</th>\n",
       "      <th>Value</th>\n",
       "      <th>Flag Codes</th>\n",
       "      <th>Flags</th>\n",
       "    </tr>\n",
       "  </thead>\n",
       "  <tbody>\n",
       "    <tr>\n",
       "      <th>0</th>\n",
       "      <td>AUS</td>\n",
       "      <td>Australia</td>\n",
       "      <td>EMP10NEW</td>\n",
       "      <td>Share of female managers</td>\n",
       "      <td>WOMEN</td>\n",
       "      <td>Women</td>\n",
       "      <td>TOTAL</td>\n",
       "      <td>Total</td>\n",
       "      <td>2011</td>\n",
       "      <td>2011</td>\n",
       "      <td>PC</td>\n",
       "      <td>Percentage</td>\n",
       "      <td>0</td>\n",
       "      <td>Units</td>\n",
       "      <td>NaN</td>\n",
       "      <td>NaN</td>\n",
       "      <td>36.1</td>\n",
       "      <td>NaN</td>\n",
       "      <td>NaN</td>\n",
       "    </tr>\n",
       "    <tr>\n",
       "      <th>1</th>\n",
       "      <td>AUS</td>\n",
       "      <td>Australia</td>\n",
       "      <td>EMP10NEW</td>\n",
       "      <td>Share of female managers</td>\n",
       "      <td>WOMEN</td>\n",
       "      <td>Women</td>\n",
       "      <td>TOTAL</td>\n",
       "      <td>Total</td>\n",
       "      <td>2012</td>\n",
       "      <td>2012</td>\n",
       "      <td>PC</td>\n",
       "      <td>Percentage</td>\n",
       "      <td>0</td>\n",
       "      <td>Units</td>\n",
       "      <td>NaN</td>\n",
       "      <td>NaN</td>\n",
       "      <td>35.7</td>\n",
       "      <td>NaN</td>\n",
       "      <td>NaN</td>\n",
       "    </tr>\n",
       "    <tr>\n",
       "      <th>2</th>\n",
       "      <td>AUS</td>\n",
       "      <td>Australia</td>\n",
       "      <td>EMP10NEW</td>\n",
       "      <td>Share of female managers</td>\n",
       "      <td>WOMEN</td>\n",
       "      <td>Women</td>\n",
       "      <td>TOTAL</td>\n",
       "      <td>Total</td>\n",
       "      <td>2013</td>\n",
       "      <td>2013</td>\n",
       "      <td>PC</td>\n",
       "      <td>Percentage</td>\n",
       "      <td>0</td>\n",
       "      <td>Units</td>\n",
       "      <td>NaN</td>\n",
       "      <td>NaN</td>\n",
       "      <td>35.8</td>\n",
       "      <td>NaN</td>\n",
       "      <td>NaN</td>\n",
       "    </tr>\n",
       "  </tbody>\n",
       "</table>\n",
       "</div>"
      ],
      "text/plain": [
       "   COU    Country       IND                 Indicator    SEX    Sex    AGE  \\\n",
       "0  AUS  Australia  EMP10NEW  Share of female managers  WOMEN  Women  TOTAL   \n",
       "1  AUS  Australia  EMP10NEW  Share of female managers  WOMEN  Women  TOTAL   \n",
       "2  AUS  Australia  EMP10NEW  Share of female managers  WOMEN  Women  TOTAL   \n",
       "\n",
       "  Age Group  TIME  Time Unit Code        Unit PowerCode Code PowerCode  \\\n",
       "0     Total  2011  2011        PC  Percentage              0     Units   \n",
       "1     Total  2012  2012        PC  Percentage              0     Units   \n",
       "2     Total  2013  2013        PC  Percentage              0     Units   \n",
       "\n",
       "  Reference Period Code Reference Period Value Flag Codes Flags  \n",
       "0                   NaN              NaN  36.1        NaN   NaN  \n",
       "1                   NaN              NaN  35.7        NaN   NaN  \n",
       "2                   NaN              NaN  35.8        NaN   NaN  "
      ]
     },
     "execution_count": 111,
     "metadata": {},
     "output_type": "execute_result"
    }
   ],
   "source": [
    "femaleWorldwide['managers'].head(3)"
   ]
  },
  {
   "cell_type": "code",
   "execution_count": 112,
   "metadata": {},
   "outputs": [],
   "source": [
    "for key, value in femaleWorldwide.items():\n",
    "\n",
    "    femaleWorldwide[key] = femaleWorldwide[key].loc[:, femaleWorldwide[key].isnull().mean() < .5]   # Remove columns with over 50% NaN\n",
    "\n",
    "    femaleWorldwide[key] = femaleWorldwide[key][['COU', 'Country', 'Indicator', 'Time', 'Value']]\n",
    "\n",
    "    columnNames = {'COU':'Country_code', 'Indicator':'Position', 'Time':'Year', 'Value':'Percentage'}\n",
    "\n",
    "    femaleWorldwide[key].rename(columns = columnNames, inplace=True)\n",
    "\n",
    "    femaleWorldwide[key]['Position'] = femaleWorldwide[key]['Position'].apply(lambda x:'board' if 'boards' in x else 'manager')\n",
    "\n",
    "    # This will convert all the columns to numeric except 'Country'\n",
    "    cols = femaleWorldwide[key].columns.drop(['Country_code','Country','Position'])\n",
    "    femaleWorldwide[key][cols] = femaleWorldwide[key][cols].apply(pd.to_numeric, errors='coerce')\n",
    "\n",
    "    femaleWorldwide[key][\"Country\"] = np.where(femaleWorldwide[key][\"Country\"] == 'China (People\\'s Republic of)', 'China', femaleWorldwide[key][\"Country\"])"
   ]
  },
  {
   "cell_type": "code",
   "execution_count": 113,
   "metadata": {},
   "outputs": [
    {
     "data": {
      "text/html": [
       "<div>\n",
       "<style scoped>\n",
       "    .dataframe tbody tr th:only-of-type {\n",
       "        vertical-align: middle;\n",
       "    }\n",
       "\n",
       "    .dataframe tbody tr th {\n",
       "        vertical-align: top;\n",
       "    }\n",
       "\n",
       "    .dataframe thead th {\n",
       "        text-align: right;\n",
       "    }\n",
       "</style>\n",
       "<table border=\"1\" class=\"dataframe\">\n",
       "  <thead>\n",
       "    <tr style=\"text-align: right;\">\n",
       "      <th></th>\n",
       "      <th>Country_code</th>\n",
       "      <th>Country</th>\n",
       "      <th>Position</th>\n",
       "      <th>Year</th>\n",
       "      <th>Percentage</th>\n",
       "    </tr>\n",
       "  </thead>\n",
       "  <tbody>\n",
       "    <tr>\n",
       "      <th>0</th>\n",
       "      <td>SVN</td>\n",
       "      <td>Slovenia</td>\n",
       "      <td>board</td>\n",
       "      <td>2013</td>\n",
       "      <td>21.6</td>\n",
       "    </tr>\n",
       "  </tbody>\n",
       "</table>\n",
       "</div>"
      ],
      "text/plain": [
       "  Country_code   Country Position  Year  Percentage\n",
       "0          SVN  Slovenia    board  2013        21.6"
      ]
     },
     "execution_count": 113,
     "metadata": {},
     "output_type": "execute_result"
    }
   ],
   "source": [
    "femaleBoard = femaleWorldwide['boards']\n",
    "femaleBoard.head(1)"
   ]
  },
  {
   "cell_type": "code",
   "execution_count": 114,
   "metadata": {},
   "outputs": [
    {
     "data": {
      "text/html": [
       "<div>\n",
       "<style scoped>\n",
       "    .dataframe tbody tr th:only-of-type {\n",
       "        vertical-align: middle;\n",
       "    }\n",
       "\n",
       "    .dataframe tbody tr th {\n",
       "        vertical-align: top;\n",
       "    }\n",
       "\n",
       "    .dataframe thead th {\n",
       "        text-align: right;\n",
       "    }\n",
       "</style>\n",
       "<table border=\"1\" class=\"dataframe\">\n",
       "  <thead>\n",
       "    <tr style=\"text-align: right;\">\n",
       "      <th></th>\n",
       "      <th>Country_code</th>\n",
       "      <th>Country</th>\n",
       "      <th>Position</th>\n",
       "      <th>Year</th>\n",
       "      <th>Percentage</th>\n",
       "    </tr>\n",
       "  </thead>\n",
       "  <tbody>\n",
       "    <tr>\n",
       "      <th>0</th>\n",
       "      <td>AUS</td>\n",
       "      <td>Australia</td>\n",
       "      <td>manager</td>\n",
       "      <td>2011</td>\n",
       "      <td>36.1</td>\n",
       "    </tr>\n",
       "  </tbody>\n",
       "</table>\n",
       "</div>"
      ],
      "text/plain": [
       "  Country_code    Country Position  Year  Percentage\n",
       "0          AUS  Australia  manager  2011        36.1"
      ]
     },
     "execution_count": 114,
     "metadata": {},
     "output_type": "execute_result"
    }
   ],
   "source": [
    "femaleManager = femaleWorldwide['managers']\n",
    "femaleManager.head(1)"
   ]
  },
  {
   "cell_type": "code",
   "execution_count": 115,
   "metadata": {},
   "outputs": [
    {
     "name": "stdout",
     "output_type": "stream",
     "text": [
      "    Country_code Country Position  Year  Percentage\n",
      "391          KOR   Korea    board  2021         8.7\n"
     ]
    }
   ],
   "source": [
    "mask = femaleBoard['Year'] == 2021\n",
    "# femaleBoard[mask].Percentage.max()\n",
    "\n",
    "print(femaleBoard[mask][femaleBoard[mask].Percentage == femaleBoard[mask].Percentage.min()])"
   ]
  },
  {
   "cell_type": "code",
   "execution_count": 116,
   "metadata": {},
   "outputs": [
    {
     "name": "stdout",
     "output_type": "stream",
     "text": [
      "    Country_code  Country Position  Year  Percentage\n",
      "387          ISL  Iceland    board  2021        47.1\n"
     ]
    }
   ],
   "source": [
    "print(femaleBoard[mask][femaleBoard[mask].Percentage == femaleBoard[mask].Percentage.max()])"
   ]
  },
  {
   "cell_type": "code",
   "execution_count": 117,
   "metadata": {},
   "outputs": [],
   "source": [
    "countriesRepresent = ['Korea','Estonia','Russia','Japan','China','Brazil','India','Poland','Ireland','Spain','Canada',\n",
    "'United States','South Africa','Australia','Germany','United Kingdom','Sweden','France','Iceland']"
   ]
  }
 ],
 "metadata": {
  "kernelspec": {
   "display_name": "Python 3.7.4 64-bit",
   "language": "python",
   "name": "python3"
  },
  "language_info": {
   "codemirror_mode": {
    "name": "ipython",
    "version": 3
   },
   "file_extension": ".py",
   "mimetype": "text/x-python",
   "name": "python",
   "nbconvert_exporter": "python",
   "pygments_lexer": "ipython3",
   "version": "3.7.4"
  },
  "orig_nbformat": 4,
  "vscode": {
   "interpreter": {
    "hash": "aee8b7b246df8f9039afb4144a1f6fd8d2ca17a180786b69acc140d282b71a49"
   }
  }
 },
 "nbformat": 4,
 "nbformat_minor": 2
}
