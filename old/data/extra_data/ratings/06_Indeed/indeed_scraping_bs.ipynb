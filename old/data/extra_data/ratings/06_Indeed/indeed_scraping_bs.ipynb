{
 "cells": [
  {
   "cell_type": "code",
   "execution_count": 1,
   "metadata": {},
   "outputs": [],
   "source": [
    "from bs4 import BeautifulSoup as bs\n",
    "import requests\n",
    "import pandas as pd\n",
    "import numpy as np"
   ]
  },
  {
   "cell_type": "markdown",
   "metadata": {},
   "source": [
    "**Resumen**"
   ]
  },
  {
   "cell_type": "code",
   "execution_count": 2,
   "metadata": {},
   "outputs": [],
   "source": [
    "url = \"https://es.indeed.com/cmp/Acerinox\"\n",
    "response = requests.get(url)\n",
    "html = response.content\n",
    "soup = bs(html, \"lxml\")"
   ]
  },
  {
   "cell_type": "code",
   "execution_count": 3,
   "metadata": {},
   "outputs": [
    {
     "data": {
      "text/plain": [
       "'ACERINOX'"
      ]
     },
     "execution_count": 3,
     "metadata": {},
     "output_type": "execute_result"
    }
   ],
   "source": [
    "nombre_empresa = soup.find(\"div\", class_=\"css-1e5qoy2 e37uo190\").text\n",
    "nombre_empresa"
   ]
  },
  {
   "cell_type": "code",
   "execution_count": 5,
   "metadata": {},
   "outputs": [],
   "source": [
    "# detalles_empresa_1 = soup.find_all('div', class_='css-1w0iwyp e1wnkr790')\n",
    "# for index, detalle in enumerate(detalles_empresa_1):\n",
    "#     if index == 0:\n",
    "#         año_fundacion = detalle.text\n",
    "#     elif index == 1:\n",
    "#         industria = detalle.text\n",
    "#     elif index == 2:\n",
    "#         oficina_principal = detalle.text\n",
    "# print(año_fundacion)\n",
    "# print(industria)\n",
    "# print(oficina_principal)"
   ]
  },
  {
   "cell_type": "code",
   "execution_count": 6,
   "metadata": {},
   "outputs": [],
   "source": [
    "# detalles_empresa_2 = soup.find_all('div', class_='css-1k40ovh e1wnkr790')\n",
    "# for index, detalle in enumerate(detalles_empresa_2):\n",
    "#     if index == 0:\n",
    "#         tamaño_empresa = detalle.text\n",
    "#     elif index == 1:\n",
    "#         ingresos_empresa = detalle.text\n",
    "# print(tamaño_empresa)\n",
    "# print(ingresos_empresa)"
   ]
  },
  {
   "cell_type": "code",
   "execution_count": 7,
   "metadata": {},
   "outputs": [
    {
     "data": {
      "text/plain": [
       "'13 valoraciones'"
      ]
     },
     "execution_count": 7,
     "metadata": {},
     "output_type": "execute_result"
    }
   ],
   "source": [
    "numero_valoraciones = soup.find(\"a\", class_=\"css-6axkko emf9s7v0\").text\n",
    "numero_valoraciones"
   ]
  },
  {
   "cell_type": "code",
   "execution_count": 9,
   "metadata": {},
   "outputs": [
    {
     "data": {
      "text/plain": [
       "{'2018': '4.50', '2019': '5.00', '2020': '5.00', '2021': '2.00'}"
      ]
     },
     "execution_count": 9,
     "metadata": {},
     "output_type": "execute_result"
    }
   ],
   "source": [
    "lista_años_valoraciones = []\n",
    "lista_valoraciones = []\n",
    "\n",
    "lista_tendencia_valoraciones = soup.find_all('g', class_='css-a50thi eu4oa1w0')\n",
    "for index, tendencia in enumerate(lista_tendencia_valoraciones):\n",
    "    tendencia = tendencia.text\n",
    "    lista_valoraciones.append(tendencia[:len(tendencia)//2])\n",
    "    lista_años_valoraciones.append(tendencia[len(tendencia)//2:])\n",
    "\n",
    "tendencia_valoraciones_2022 = soup.find('g', class_='css-je7s01 eu4oa1w0').text\n",
    "lista_valoraciones.append(tendencia_valoraciones_2022[:len(tendencia_valoraciones_2022)//2])\n",
    "lista_años_valoraciones.append(tendencia_valoraciones_2022[len(tendencia_valoraciones_2022)//2:])\n",
    "\n",
    "diccionario_años_valoraciones = dict(zip(lista_años_valoraciones,lista_valoraciones))\n",
    "\n",
    "diccionario_años_valoraciones"
   ]
  },
  {
   "cell_type": "code",
   "execution_count": 30,
   "metadata": {},
   "outputs": [
    {
     "data": {
      "text/plain": [
       "['Conciliación',\n",
       " 'Compensación y beneficios',\n",
       " 'Estabilidad laboral/Desarrollo profesional',\n",
       " 'Gestión',\n",
       " 'Cultura laboral']"
      ]
     },
     "execution_count": 30,
     "metadata": {},
     "output_type": "execute_result"
    }
   ],
   "source": [
    "lista_categoria_valoraciones = [] \n",
    "categorias_valoraciones = soup.find_all('span', class_='css-18e8153 e1wnkr790')\n",
    "for categoria in categorias_valoraciones:\n",
    "    lista_categoria_valoraciones.append(categoria.text)\n",
    "lista_categoria_valoraciones"
   ]
  },
  {
   "cell_type": "code",
   "execution_count": 34,
   "metadata": {},
   "outputs": [
    {
     "data": {
      "text/plain": [
       "['3.8', '3.8', '3.4', '3.6', '3.7']"
      ]
     },
     "execution_count": 34,
     "metadata": {},
     "output_type": "execute_result"
    }
   ],
   "source": [
    "lista_puntuacion_categorias = []\n",
    "puntuacion_categorias = soup.find_all('span', class_='css-1qdoj65 e1wnkr790')\n",
    "for puntuacion in puntuacion_categorias:\n",
    "    lista_puntuacion_categorias.append(puntuacion.text)\n",
    "lista_puntuacion_categorias"
   ]
  },
  {
   "cell_type": "code",
   "execution_count": 40,
   "metadata": {},
   "outputs": [
    {
     "name": "stdout",
     "output_type": "stream",
     "text": [
      "Experiencia favorable\n",
      "La entrevista es normal\n",
      "El proceso tarda uno o dos días\n"
     ]
    }
   ],
   "source": [
    "datos_entrevistas = soup.find_all('div', class_='css-1s6yfhj e1wnkr790')\n",
    "for index, dato in enumerate(datos_entrevistas):\n",
    "    if index == 0:\n",
    "        experiencia_entrevista = dato.text\n",
    "    elif index == 1:\n",
    "        tipo_entrevista = dato.text\n",
    "    elif index == 2:\n",
    "        tardanza_proceso = dato.text\n",
    "print(experiencia_entrevista)\n",
    "print(tipo_entrevista)\n",
    "print(tardanza_proceso)"
   ]
  },
  {
   "cell_type": "code",
   "execution_count": 26,
   "metadata": {},
   "outputs": [],
   "source": [
    "url = \"https://es.indeed.com/cmp/Cellnex-Telecom/reviews\"\n",
    "response = requests.get(url)\n",
    "html = response.content\n",
    "soup = bs(html, \"lxml\")"
   ]
  },
  {
   "cell_type": "code",
   "execution_count": 55,
   "metadata": {},
   "outputs": [
    {
     "data": {
      "text/plain": [
       "{'Equilibrio vida personal/laboral': '3,0',\n",
       " 'Salario/Beneficios': '3,7',\n",
       " 'Estabilidad laboral/Desarrollo profesional': '2,8',\n",
       " 'Gestión': '2,8',\n",
       " 'Cultura laboral': '3,0'}"
      ]
     },
     "execution_count": 55,
     "metadata": {},
     "output_type": "execute_result"
    }
   ],
   "source": [
    "keys_list = []\n",
    "values_list = []\n",
    "\n",
    "puntuacion_categorias = soup.find_all('a', class_='css-1cwhii6 e8ju0x51')\n",
    "for puntuacion in puntuacion_categorias:\n",
    "    keys = puntuacion.text\n",
    "    keys_list.append(keys[len(puntuacion)//1:])\n",
    "    values = puntuacion.text\n",
    "    values_list.append(values[:len(puntuacion)//1])\n",
    "\n",
    "diccionario_puntuacion_categorias = dict(zip(keys_list,values_list))\n",
    "\n",
    "diccionario_puntuacion_categorias\n",
    "\n"
   ]
  },
  {
   "cell_type": "code",
   "execution_count": 21,
   "metadata": {},
   "outputs": [],
   "source": [
    "url = \"https://es.indeed.com/cmp/Acciona/salaries\"\n",
    "response = requests.get(url)\n",
    "html = response.content\n",
    "soup = bs(html, \"lxml\")"
   ]
  },
  {
   "cell_type": "code",
   "execution_count": 47,
   "metadata": {},
   "outputs": [
    {
     "data": {
      "text/plain": [
       "'61'"
      ]
     },
     "execution_count": 47,
     "metadata": {},
     "output_type": "execute_result"
    }
   ],
   "source": [
    "salary_satisfaction = soup.find('div', class_='cmp-SalarySatisfactionSidebarWidgetPieChart-inside')\n",
    "salary_satisfaction = salary_satisfaction.text\n",
    "salary_satisfaction = salary_satisfaction[:2]\n",
    "salary_satisfaction"
   ]
  }
 ],
 "metadata": {
  "kernelspec": {
   "display_name": "Python 3.7.4 64-bit",
   "language": "python",
   "name": "python3"
  },
  "language_info": {
   "codemirror_mode": {
    "name": "ipython",
    "version": 3
   },
   "file_extension": ".py",
   "mimetype": "text/x-python",
   "name": "python",
   "nbconvert_exporter": "python",
   "pygments_lexer": "ipython3",
   "version": "3.7.4"
  },
  "orig_nbformat": 4,
  "vscode": {
   "interpreter": {
    "hash": "aee8b7b246df8f9039afb4144a1f6fd8d2ca17a180786b69acc140d282b71a49"
   }
  }
 },
 "nbformat": 4,
 "nbformat_minor": 2
}
